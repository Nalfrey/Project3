{
 "cells": [
  {
   "cell_type": "code",
   "execution_count": 1,
   "id": "00ea1608-ae0c-44fe-81c5-ee63ffd8ef7c",
   "metadata": {},
   "outputs": [],
   "source": [
    "%matplotlib inline\n",
    "from matplotlib import style\n",
    "style.use('fivethirtyeight')\n",
    "import matplotlib.pyplot as plt"
   ]
  },
  {
   "cell_type": "code",
   "execution_count": 2,
   "id": "b103d43c-f36d-45b8-ba50-9a1a74b6bd0a",
   "metadata": {},
   "outputs": [],
   "source": [
    "import numpy as np\n",
    "import pandas as pd\n",
    "import datetime as dt\n",
    "from pathlib import Path\n",
    "import seaborn as sns"
   ]
  },
  {
   "cell_type": "code",
   "execution_count": 3,
   "id": "26aa15a8-d57d-4d1e-85a2-bcec44e96fe7",
   "metadata": {},
   "outputs": [],
   "source": [
    "# Python SQL toolkit and Object Relational Mapper\n",
    "import sqlalchemy\n",
    "from sqlalchemy.ext.automap import automap_base\n",
    "from sqlalchemy.orm import Session\n",
    "from sqlalchemy import create_engine, func\n",
    "from sqlalchemy import create_engine, inspect"
   ]
  },
  {
   "cell_type": "code",
   "execution_count": 4,
   "id": "4243149b-913f-4826-8287-2bbd90642466",
   "metadata": {},
   "outputs": [],
   "source": [
    "# create engine to spotify-2023.sqlite\n",
    "#DONT RUN THIS UNLESS WE HAVE THE SQL UPDATED\n",
    "engine = create_engine(\"sqlite:///Resources/spotify-2023.sqlite\")"
   ]
  },
  {
   "cell_type": "code",
   "execution_count": 5,
   "id": "aa468032-a18a-4d7a-9566-20244b96b599",
   "metadata": {},
   "outputs": [
    {
     "data": {
      "text/plain": [
       "[]"
      ]
     },
     "execution_count": 5,
     "metadata": {},
     "output_type": "execute_result"
    }
   ],
   "source": [
    "# reflect an existing database into a new model\n",
    "base = automap_base()\n",
    "# reflect the tables\n",
    "base.prepare(autoload_with=engine)\n",
    "base.classes.keys()"
   ]
  },
  {
   "cell_type": "code",
   "execution_count": null,
   "id": "3b75256d-df19-4118-8669-fd71b9330f61",
   "metadata": {},
   "outputs": [],
   "source": [
    "#import csv\n",
    "spotify_2023_data = Path(\"Resources/spotify-2023.csv\")"
   ]
  },
  {
   "cell_type": "code",
   "execution_count": null,
   "id": "ab04734d-bcd4-4ae9-b3ab-ea31a27fb6b1",
   "metadata": {},
   "outputs": [],
   "source": [
    "#create visualization for top 10-25 songs with hover of track name, artist, and # of song streams\n",
    "# Fufills requirement your final visualization should ideally include at least three views"
   ]
  },
  {
   "cell_type": "code",
   "execution_count": null,
   "id": "0768b35c-809a-4aa7-8650-1225ef322205",
   "metadata": {},
   "outputs": [],
   "source": [
    "#create visualization release year vs number of streams\n",
    "# Fufills requirement your final visualization should ideally include at least three views\n",
    "#LingB"
   ]
  },
  {
   "cell_type": "code",
   "execution_count": null,
   "id": "76633a3d-dc79-4ded-b91c-c291a893099d",
   "metadata": {},
   "outputs": [],
   "source": [
    "#create visualization of spotify vs apple playlist(s)\n",
    "# Fufills requirement your final visualization should ideally include at least three views"
   ]
  },
  {
   "cell_type": "code",
   "execution_count": null,
   "id": "add5b44c-5ec8-4a00-869c-4f41623e3a50",
   "metadata": {},
   "outputs": [],
   "source": [
    "#create dropdown menu with filters - by (decide on this) top 10 streams(???)\n",
    "#Fulfills requirement Your project must include some level of user-driven interaction"
   ]
  }
 ],
 "metadata": {
  "kernelspec": {
   "display_name": "Python 3 (ipykernel)",
   "language": "python",
   "name": "python3"
  },
  "language_info": {
   "codemirror_mode": {
    "name": "ipython",
    "version": 3
   },
   "file_extension": ".py",
   "mimetype": "text/x-python",
   "name": "python",
   "nbconvert_exporter": "python",
   "pygments_lexer": "ipython3",
   "version": "3.10.14"
  }
 },
 "nbformat": 4,
 "nbformat_minor": 5
}
