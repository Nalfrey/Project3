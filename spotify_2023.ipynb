{
 "cells": [
  {
   "cell_type": "code",
   "execution_count": 1,
   "id": "00ea1608-ae0c-44fe-81c5-ee63ffd8ef7c",
   "metadata": {},
   "outputs": [],
   "source": [
    "%matplotlib inline\n",
    "from matplotlib import style\n",
    "style.use('fivethirtyeight')\n",
    "import matplotlib.pyplot as plt"
   ]
  },
  {
   "cell_type": "code",
   "execution_count": 2,
   "id": "b103d43c-f36d-45b8-ba50-9a1a74b6bd0a",
   "metadata": {},
   "outputs": [],
   "source": [
    "import numpy as np\n",
    "import pandas as pd\n",
    "import datetime as dt\n",
    "from pathlib import Path\n",
    "import seaborn as sns"
   ]
  },
  {
   "cell_type": "code",
   "execution_count": 3,
   "id": "26aa15a8-d57d-4d1e-85a2-bcec44e96fe7",
   "metadata": {},
   "outputs": [],
   "source": [
    "# Python SQL toolkit and Object Relational Mapper\n",
    "import sqlalchemy\n",
    "from sqlalchemy.ext.automap import automap_base\n",
    "from sqlalchemy.orm import Session\n",
    "from sqlalchemy import create_engine, func\n",
    "from sqlalchemy import create_engine, inspect"
   ]
  },
  {
   "cell_type": "code",
   "execution_count": null,
   "id": "4243149b-913f-4826-8287-2bbd90642466",
   "metadata": {},
   "outputs": [],
   "source": [
    "# create engine to spotify-2023.sqlite\n",
    "#DONT RUN THIS UNLESS WE HAVE THE SQL UPDATED\n",
    "engine = create_engine(\"sqlite:///Resources/spotify-2023.sqlite\")"
   ]
  },
  {
   "cell_type": "code",
   "execution_count": null,
   "id": "aa468032-a18a-4d7a-9566-20244b96b599",
   "metadata": {},
   "outputs": [],
   "source": [
    "# reflect an existing database into a new model\n",
    "base = automap_base()\n",
    "# reflect the tables\n",
    "base.prepare(autoload_with=engine)\n",
    "base.classes.keys()"
   ]
  },
  {
   "cell_type": "code",
   "execution_count": 4,
   "id": "3b75256d-df19-4118-8669-fd71b9330f61",
   "metadata": {},
   "outputs": [],
   "source": [
    "#import csv\n",
    "spotify_2023_data = Path(\"Resources/spotify_2023.csv\")"
   ]
  },
  {
   "cell_type": "code",
   "execution_count": 5,
   "id": "26b9dff2-52e0-4a5d-8b3d-d3e23b47b097",
   "metadata": {},
   "outputs": [
    {
     "data": {
      "text/html": [
       "<div>\n",
       "<style scoped>\n",
       "    .dataframe tbody tr th:only-of-type {\n",
       "        vertical-align: middle;\n",
       "    }\n",
       "\n",
       "    .dataframe tbody tr th {\n",
       "        vertical-align: top;\n",
       "    }\n",
       "\n",
       "    .dataframe thead th {\n",
       "        text-align: right;\n",
       "    }\n",
       "</style>\n",
       "<table border=\"1\" class=\"dataframe\">\n",
       "  <thead>\n",
       "    <tr style=\"text-align: right;\">\n",
       "      <th></th>\n",
       "      <th>track_name</th>\n",
       "      <th>artist(s)_name</th>\n",
       "      <th>artist_count</th>\n",
       "      <th>released_year</th>\n",
       "      <th>released_month</th>\n",
       "      <th>released_day</th>\n",
       "      <th>in_spotify_playlists</th>\n",
       "      <th>in_spotify_charts</th>\n",
       "      <th>streams</th>\n",
       "      <th>in_apple_playlists</th>\n",
       "      <th>...</th>\n",
       "      <th>bpm</th>\n",
       "      <th>key</th>\n",
       "      <th>mode</th>\n",
       "      <th>danceability_%</th>\n",
       "      <th>valence_%</th>\n",
       "      <th>energy_%</th>\n",
       "      <th>acousticness_%</th>\n",
       "      <th>instrumentalness_%</th>\n",
       "      <th>liveness_%</th>\n",
       "      <th>speechiness_%</th>\n",
       "    </tr>\n",
       "  </thead>\n",
       "  <tbody>\n",
       "    <tr>\n",
       "      <th>0</th>\n",
       "      <td>Blinding Lights</td>\n",
       "      <td>The Weeknd</td>\n",
       "      <td>1</td>\n",
       "      <td>2019</td>\n",
       "      <td>11</td>\n",
       "      <td>29</td>\n",
       "      <td>43899</td>\n",
       "      <td>69</td>\n",
       "      <td>3703895074</td>\n",
       "      <td>672</td>\n",
       "      <td>...</td>\n",
       "      <td>171</td>\n",
       "      <td>C#</td>\n",
       "      <td>Major</td>\n",
       "      <td>50</td>\n",
       "      <td>38</td>\n",
       "      <td>80</td>\n",
       "      <td>0</td>\n",
       "      <td>0</td>\n",
       "      <td>9</td>\n",
       "      <td>7</td>\n",
       "    </tr>\n",
       "    <tr>\n",
       "      <th>1</th>\n",
       "      <td>Shape of You</td>\n",
       "      <td>Ed Sheeran</td>\n",
       "      <td>1</td>\n",
       "      <td>2017</td>\n",
       "      <td>1</td>\n",
       "      <td>6</td>\n",
       "      <td>32181</td>\n",
       "      <td>10</td>\n",
       "      <td>3562543890</td>\n",
       "      <td>33</td>\n",
       "      <td>...</td>\n",
       "      <td>96</td>\n",
       "      <td>C#</td>\n",
       "      <td>Minor</td>\n",
       "      <td>83</td>\n",
       "      <td>93</td>\n",
       "      <td>65</td>\n",
       "      <td>58</td>\n",
       "      <td>0</td>\n",
       "      <td>9</td>\n",
       "      <td>8</td>\n",
       "    </tr>\n",
       "    <tr>\n",
       "      <th>2</th>\n",
       "      <td>Someone You Loved</td>\n",
       "      <td>Lewis Capaldi</td>\n",
       "      <td>1</td>\n",
       "      <td>2018</td>\n",
       "      <td>11</td>\n",
       "      <td>8</td>\n",
       "      <td>17836</td>\n",
       "      <td>53</td>\n",
       "      <td>2887241814</td>\n",
       "      <td>440</td>\n",
       "      <td>...</td>\n",
       "      <td>110</td>\n",
       "      <td>C#</td>\n",
       "      <td>Major</td>\n",
       "      <td>50</td>\n",
       "      <td>45</td>\n",
       "      <td>41</td>\n",
       "      <td>75</td>\n",
       "      <td>0</td>\n",
       "      <td>11</td>\n",
       "      <td>3</td>\n",
       "    </tr>\n",
       "    <tr>\n",
       "      <th>3</th>\n",
       "      <td>Dance Monkey</td>\n",
       "      <td>Tones and I</td>\n",
       "      <td>1</td>\n",
       "      <td>2019</td>\n",
       "      <td>5</td>\n",
       "      <td>10</td>\n",
       "      <td>24529</td>\n",
       "      <td>0</td>\n",
       "      <td>2864791672</td>\n",
       "      <td>533</td>\n",
       "      <td>...</td>\n",
       "      <td>98</td>\n",
       "      <td>F#</td>\n",
       "      <td>Minor</td>\n",
       "      <td>82</td>\n",
       "      <td>54</td>\n",
       "      <td>59</td>\n",
       "      <td>69</td>\n",
       "      <td>0</td>\n",
       "      <td>18</td>\n",
       "      <td>10</td>\n",
       "    </tr>\n",
       "    <tr>\n",
       "      <th>4</th>\n",
       "      <td>Sunflower - Spider-Man: Into the Spider-Verse</td>\n",
       "      <td>Post Malone, Swae Lee</td>\n",
       "      <td>2</td>\n",
       "      <td>2018</td>\n",
       "      <td>10</td>\n",
       "      <td>9</td>\n",
       "      <td>24094</td>\n",
       "      <td>78</td>\n",
       "      <td>2808096550</td>\n",
       "      <td>372</td>\n",
       "      <td>...</td>\n",
       "      <td>90</td>\n",
       "      <td>D</td>\n",
       "      <td>Major</td>\n",
       "      <td>76</td>\n",
       "      <td>91</td>\n",
       "      <td>50</td>\n",
       "      <td>54</td>\n",
       "      <td>0</td>\n",
       "      <td>7</td>\n",
       "      <td>5</td>\n",
       "    </tr>\n",
       "  </tbody>\n",
       "</table>\n",
       "<p>5 rows × 22 columns</p>\n",
       "</div>"
      ],
      "text/plain": [
       "                                      track_name         artist(s)_name  \\\n",
       "0                                Blinding Lights             The Weeknd   \n",
       "1                                   Shape of You             Ed Sheeran   \n",
       "2                              Someone You Loved          Lewis Capaldi   \n",
       "3                                   Dance Monkey            Tones and I   \n",
       "4  Sunflower - Spider-Man: Into the Spider-Verse  Post Malone, Swae Lee   \n",
       "\n",
       "   artist_count  released_year  released_month  released_day  \\\n",
       "0             1           2019              11            29   \n",
       "1             1           2017               1             6   \n",
       "2             1           2018              11             8   \n",
       "3             1           2019               5            10   \n",
       "4             2           2018              10             9   \n",
       "\n",
       "   in_spotify_playlists  in_spotify_charts     streams  in_apple_playlists  \\\n",
       "0                 43899                 69  3703895074                 672   \n",
       "1                 32181                 10  3562543890                  33   \n",
       "2                 17836                 53  2887241814                 440   \n",
       "3                 24529                  0  2864791672                 533   \n",
       "4                 24094                 78  2808096550                 372   \n",
       "\n",
       "   ...  bpm  key   mode danceability_% valence_%  energy_%  acousticness_%  \\\n",
       "0  ...  171   C#  Major             50        38        80               0   \n",
       "1  ...   96   C#  Minor             83        93        65              58   \n",
       "2  ...  110   C#  Major             50        45        41              75   \n",
       "3  ...   98   F#  Minor             82        54        59              69   \n",
       "4  ...   90    D  Major             76        91        50              54   \n",
       "\n",
       "   instrumentalness_%  liveness_%  speechiness_%  \n",
       "0                   0           9              7  \n",
       "1                   0           9              8  \n",
       "2                   0          11              3  \n",
       "3                   0          18             10  \n",
       "4                   0           7              5  \n",
       "\n",
       "[5 rows x 22 columns]"
      ]
     },
     "execution_count": 5,
     "metadata": {},
     "output_type": "execute_result"
    }
   ],
   "source": [
    "#show headers\n",
    "spotify_2023_df = pd.read_csv(spotify_2023_data)\n",
    "spotify_2023_df.head()"
   ]
  },
  {
   "cell_type": "code",
   "execution_count": 6,
   "id": "08d0f037-8d70-4440-9b01-61e9b6d833dd",
   "metadata": {},
   "outputs": [
    {
     "data": {
      "text/plain": [
       "Index(['track_name', 'artist(s)_name', 'artist_count', 'released_year',\n",
       "       'released_month', 'released_day', 'in_spotify_playlists',\n",
       "       'in_spotify_charts', 'streams', 'in_apple_playlists', 'in_apple_charts',\n",
       "       'in_shazam_charts', 'bpm', 'key', 'mode', 'danceability_%', 'valence_%',\n",
       "       'energy_%', 'acousticness_%', 'instrumentalness_%', 'liveness_%',\n",
       "       'speechiness_%'],\n",
       "      dtype='object')"
      ]
     },
     "execution_count": 6,
     "metadata": {},
     "output_type": "execute_result"
    }
   ],
   "source": [
    "#list of columns\n",
    "spotify_2023_df.columns"
   ]
  },
  {
   "cell_type": "code",
   "execution_count": 7,
   "id": "fb22c510-359f-4817-ab54-a74bc7ab5fb5",
   "metadata": {},
   "outputs": [
    {
     "data": {
      "text/plain": [
       "track_name               object\n",
       "artist(s)_name           object\n",
       "artist_count              int64\n",
       "released_year             int64\n",
       "released_month            int64\n",
       "released_day              int64\n",
       "in_spotify_playlists      int64\n",
       "in_spotify_charts         int64\n",
       "streams                   int64\n",
       "in_apple_playlists        int64\n",
       "in_apple_charts           int64\n",
       "in_shazam_charts        float64\n",
       "bpm                       int64\n",
       "key                      object\n",
       "mode                     object\n",
       "danceability_%            int64\n",
       "valence_%                 int64\n",
       "energy_%                  int64\n",
       "acousticness_%            int64\n",
       "instrumentalness_%        int64\n",
       "liveness_%                int64\n",
       "speechiness_%             int64\n",
       "dtype: object"
      ]
     },
     "execution_count": 7,
     "metadata": {},
     "output_type": "execute_result"
    }
   ],
   "source": [
    "spotify_2023_df.dtypes"
   ]
  },
  {
   "cell_type": "code",
   "execution_count": 13,
   "id": "46a50b8e-7a19-4748-8a15-1ae7a2957fd2",
   "metadata": {},
   "outputs": [
    {
     "ename": "TypeError",
     "evalue": "'>=' not supported between instances of 'str' and 'int'",
     "output_type": "error",
     "traceback": [
      "\u001b[1;31m---------------------------------------------------------------------------\u001b[0m",
      "\u001b[1;31mTypeError\u001b[0m                                 Traceback (most recent call last)",
      "Cell \u001b[1;32mIn[13], line 3\u001b[0m\n\u001b[0;32m      1\u001b[0m \u001b[38;5;66;03m#create visualization for top 10-25 songs with hover of track name, artist, and # of song streams\u001b[39;00m\n\u001b[0;32m      2\u001b[0m \u001b[38;5;66;03m# Fufills requirement your final visualization should ideally include at least three views\u001b[39;00m\n\u001b[1;32m----> 3\u001b[0m number_of_streams \u001b[38;5;241m=\u001b[39m [(\u001b[38;5;124;43m\"\u001b[39;49m\u001b[38;5;124;43mstreams\u001b[39;49m\u001b[38;5;124;43m\"\u001b[39;49m\u001b[43m \u001b[49m\u001b[38;5;241;43m>\u001b[39;49m\u001b[38;5;241;43m=\u001b[39;49m\u001b[43m \u001b[49m\u001b[38;5;241;43m2150000000\u001b[39;49m)]\n\u001b[0;32m      4\u001b[0m track_name_artist \u001b[38;5;241m=\u001b[39m spotify_2023_df[(\u001b[38;5;124m\"\u001b[39m\u001b[38;5;124mtrack_name\u001b[39m\u001b[38;5;124m\"\u001b[39m)] \u001b[38;5;241m&\u001b[39m spotify_2023_df[(\u001b[38;5;124m\"\u001b[39m\u001b[38;5;124martist(s)_name\u001b[39m\u001b[38;5;124m\"\u001b[39m)]\n\u001b[0;32m      5\u001b[0m plot\u001b[38;5;241m.\u001b[39mbar(track_name_artist, number_of_streams)\n",
      "\u001b[1;31mTypeError\u001b[0m: '>=' not supported between instances of 'str' and 'int'"
     ]
    }
   ],
   "source": [
    "#create visualization for top 10-25 songs with hover of track name, artist, and # of song streams\n",
    "# Fufills requirement your final visualization should ideally include at least three views\n",
    "number_of_streams = [(\"streams\" >= 2150000000)]\n",
    "track_name_artist = spotify_2023_df[(\"track_name\")] & spotify_2023_df[(\"artist(s)_name\")]\n",
    "plot.bar(track_name_artist, number_of_streams)\n",
    "#plt.xticks(year, rotation=90)\n",
    "plt.title(\"Top 25 Streamed Songs on Spotify 2023\")\n",
    "plt.xlabel(\"Track Name\")\n",
    "plt.ylabel(\"Number of Streams\")\n",
    "plt.show()"
   ]
  },
  {
   "cell_type": "code",
   "execution_count": null,
   "id": "0768b35c-809a-4aa7-8650-1225ef322205",
   "metadata": {},
   "outputs": [],
   "source": [
    "#create visualization release year vs number of streams\n",
    "# Fufills requirement your final visualization should ideally include at least three views\n",
    "#LingB"
   ]
  },
  {
   "cell_type": "code",
   "execution_count": null,
   "id": "76633a3d-dc79-4ded-b91c-c291a893099d",
   "metadata": {},
   "outputs": [],
   "source": [
    "#create visualization of spotify vs apple playlist(s)\n",
    "# Fufills requirement your final visualization should ideally include at least three views"
   ]
  },
  {
   "cell_type": "code",
   "execution_count": null,
   "id": "add5b44c-5ec8-4a00-869c-4f41623e3a50",
   "metadata": {},
   "outputs": [],
   "source": [
    "#create dropdown menu with filters - by (decide on this) top 10 streams(???)\n",
    "#Fulfills requirement Your project must include some level of user-driven interaction"
   ]
  }
 ],
 "metadata": {
  "kernelspec": {
   "display_name": "Python 3 (ipykernel)",
   "language": "python",
   "name": "python3"
  },
  "language_info": {
   "codemirror_mode": {
    "name": "ipython",
    "version": 3
   },
   "file_extension": ".py",
   "mimetype": "text/x-python",
   "name": "python",
   "nbconvert_exporter": "python",
   "pygments_lexer": "ipython3",
   "version": "3.10.14"
  }
 },
 "nbformat": 4,
 "nbformat_minor": 5
}
